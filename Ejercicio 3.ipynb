{
 "cells": [
  {
   "cell_type": "code",
   "execution_count": 2,
   "id": "8d7d2c96-41cf-4a2e-8374-22efc310431f",
   "metadata": {},
   "outputs": [
    {
     "name": "stdout",
     "output_type": "stream",
     "text": [
      "Ingresa los valores de la R1 Y R2\n"
     ]
    },
    {
     "name": "stdin",
     "output_type": "stream",
     "text": [
      "Valor de la R1:  20.5\n",
      "Valor de la R2:  10.3\n"
     ]
    }
   ],
   "source": [
    "print(\"Ingresa los valores de la R1 Y R2\")\n",
    "R1 = float(input (\"Valor de la R1: \"))\n",
    "R2 = float(input (\"Valor de la R2: \"))"
   ]
  },
  {
   "cell_type": "code",
   "execution_count": 3,
   "id": "f1a4ac24-144e-49da-b000-06b91bfbb755",
   "metadata": {},
   "outputs": [],
   "source": [
    "RT = (R1*R2)/(R1+R2)"
   ]
  },
  {
   "cell_type": "code",
   "execution_count": 4,
   "id": "ac757ddc-913d-47ba-8296-bfaeb28cdf11",
   "metadata": {},
   "outputs": [
    {
     "name": "stdout",
     "output_type": "stream",
     "text": [
      "El resultado es: \n",
      "6.85551948051948\n"
     ]
    }
   ],
   "source": [
    "print(\"El resultado es: \")\n",
    "print (RT)"
   ]
  },
  {
   "cell_type": "code",
   "execution_count": null,
   "id": "dcabfbce-fd31-43a7-a275-e23301451f0f",
   "metadata": {},
   "outputs": [],
   "source": []
  }
 ],
 "metadata": {
  "kernelspec": {
   "display_name": "Python 3",
   "language": "python",
   "name": "python3"
  },
  "language_info": {
   "codemirror_mode": {
    "name": "ipython",
    "version": 3
   },
   "file_extension": ".py",
   "mimetype": "text/x-python",
   "name": "python",
   "nbconvert_exporter": "python",
   "pygments_lexer": "ipython3",
   "version": "3.8.8"
  }
 },
 "nbformat": 4,
 "nbformat_minor": 5
}
