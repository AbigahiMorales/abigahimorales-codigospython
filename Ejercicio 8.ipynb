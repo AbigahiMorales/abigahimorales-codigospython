{
 "cells": [
  {
   "cell_type": "code",
   "execution_count": 15,
   "id": "69f57780-ee9c-430b-b736-5d24863e8fa8",
   "metadata": {},
   "outputs": [
    {
     "name": "stdout",
     "output_type": "stream",
     "text": [
      "*\n",
      "* *\n",
      "* * *\n",
      "* * * *\n",
      "* * * * *\n",
      "* * * *\n",
      "* * *\n",
      "* *\n",
      "*\n"
     ]
    }
   ],
   "source": [
    "Lista= ['*', '* *', '* * *', '* * * *', '* * * * *']\n",
    "\n",
    "for Lista in Lista :\n",
    "    print (Lista)\n",
    "\n",
    "Lista2= ['* * * *', '* * *',  '* *', '*',]\n",
    "for Lista2 in Lista2 :\n",
    "    print (Lista2)"
   ]
  },
  {
   "cell_type": "code",
   "execution_count": null,
   "id": "7d748e6a-5674-4df3-9a6c-280140af3b69",
   "metadata": {},
   "outputs": [],
   "source": []
  }
 ],
 "metadata": {
  "kernelspec": {
   "display_name": "Python 3",
   "language": "python",
   "name": "python3"
  },
  "language_info": {
   "codemirror_mode": {
    "name": "ipython",
    "version": 3
   },
   "file_extension": ".py",
   "mimetype": "text/x-python",
   "name": "python",
   "nbconvert_exporter": "python",
   "pygments_lexer": "ipython3",
   "version": "3.8.8"
  }
 },
 "nbformat": 4,
 "nbformat_minor": 5
}
