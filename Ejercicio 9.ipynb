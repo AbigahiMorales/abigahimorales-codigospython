{
 "cells": [
  {
   "cell_type": "code",
   "execution_count": 1,
   "id": "7699ab46-3366-42fc-8113-a7676c4029c7",
   "metadata": {},
   "outputs": [
    {
     "name": "stdout",
     "output_type": "stream",
     "text": [
      "Escribe una palabra\n"
     ]
    },
    {
     "name": "stdin",
     "output_type": "stream",
     "text": [
      "La palabra es:  Abigahi\n"
     ]
    }
   ],
   "source": [
    "print(\"Escribe una palabra\")\n",
    "P = str(input(\"La palabra es: \"))"
   ]
  },
  {
   "cell_type": "code",
   "execution_count": 2,
   "id": "957c0770-a3c9-4ec9-8464-0982c3eb16a5",
   "metadata": {},
   "outputs": [],
   "source": [
    "b = P[::-1]"
   ]
  },
  {
   "cell_type": "code",
   "execution_count": 3,
   "id": "e58ecddd-65af-4d38-8f64-0235e49aaa66",
   "metadata": {},
   "outputs": [
    {
     "data": {
      "text/plain": [
       "'ihagibA'"
      ]
     },
     "execution_count": 3,
     "metadata": {},
     "output_type": "execute_result"
    }
   ],
   "source": [
    "b"
   ]
  },
  {
   "cell_type": "code",
   "execution_count": null,
   "id": "6aaaba56-1c34-424f-9b60-e18429c0c712",
   "metadata": {},
   "outputs": [],
   "source": []
  }
 ],
 "metadata": {
  "kernelspec": {
   "display_name": "Python 3",
   "language": "python",
   "name": "python3"
  },
  "language_info": {
   "codemirror_mode": {
    "name": "ipython",
    "version": 3
   },
   "file_extension": ".py",
   "mimetype": "text/x-python",
   "name": "python",
   "nbconvert_exporter": "python",
   "pygments_lexer": "ipython3",
   "version": "3.8.8"
  }
 },
 "nbformat": 4,
 "nbformat_minor": 5
}
