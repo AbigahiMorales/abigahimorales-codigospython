{
 "cells": [
  {
   "cell_type": "code",
   "execution_count": 24,
   "id": "e2819ddd-debd-41bc-8ed7-4c24fbaa953b",
   "metadata": {},
   "outputs": [
    {
     "name": "stdout",
     "output_type": "stream",
     "text": [
      "Ingresa tú edad\n"
     ]
    },
    {
     "name": "stdin",
     "output_type": "stream",
     "text": [
      "Tú edad es : 18\n"
     ]
    }
   ],
   "source": [
    "print(\"Ingresa tú edad\")\n",
    "Edad = int(input(\"Tú edad es :\"))"
   ]
  },
  {
   "cell_type": "code",
   "execution_count": 25,
   "id": "1aac173a-6fc4-4a63-95af-0f55e812fbca",
   "metadata": {},
   "outputs": [
    {
     "name": "stdout",
     "output_type": "stream",
     "text": [
      "Cumples con la edad\n"
     ]
    }
   ],
   "source": [
    "if Edad >= 18  :\n",
    "    print(\"Cumples con la edad\")"
   ]
  },
  {
   "cell_type": "code",
   "execution_count": null,
   "id": "f9a78cfc-457d-4d5f-a383-b6aea8f692e7",
   "metadata": {},
   "outputs": [],
   "source": [
    "if Edad <= 18  :\n",
    "    print(\"No cumples con la mayoria de edad\")"
   ]
  },
  {
   "cell_type": "code",
   "execution_count": 28,
   "id": "d98abb9e-305e-49a8-87ff-a1e837bfeb01",
   "metadata": {},
   "outputs": [
    {
     "name": "stdout",
     "output_type": "stream",
     "text": [
      "Ingresa la cantidad mensual de tús ingresos \n"
     ]
    },
    {
     "name": "stdin",
     "output_type": "stream",
     "text": [
      "Tús ingresos mensuales son:  4200\n"
     ]
    },
    {
     "name": "stdout",
     "output_type": "stream",
     "text": [
      "Ingresa la cantidad mensual de tús egresos \n"
     ]
    },
    {
     "name": "stdin",
     "output_type": "stream",
     "text": [
      "Tús egresos mensuales son:  1100\n"
     ]
    }
   ],
   "source": [
    "print(\"Ingresa la cantidad mensual de tús ingresos \")\n",
    "Ingresos = int(input(\"Tús ingresos mensuales son: \"))\n",
    "print (\"Ingresa la cantidad mensual de tús egresos \")\n",
    "Egresos = int(input(\"Tús egresos mensuales son: \"))"
   ]
  },
  {
   "cell_type": "code",
   "execution_count": 29,
   "id": "1b363304-31a2-4eca-bd28-e73a48151992",
   "metadata": {},
   "outputs": [],
   "source": [
    "if Egresos > Ingresos :\n",
    "    print(\"No cumples con los requisitos minimos\")"
   ]
  },
  {
   "cell_type": "code",
   "execution_count": 30,
   "id": "26105825-82f5-4e4f-b057-f56bb2c8ab66",
   "metadata": {},
   "outputs": [
    {
     "name": "stdout",
     "output_type": "stream",
     "text": [
      "Cumples con los requisitos minimos\n"
     ]
    }
   ],
   "source": [
    "if Egresos < Ingresos :\n",
    "    print(\"Cumples con los requisitos minimos\")"
   ]
  },
  {
   "cell_type": "code",
   "execution_count": 31,
   "id": "d237bdbb-f776-4794-8e57-4ed3799ea811",
   "metadata": {},
   "outputs": [
    {
     "name": "stdout",
     "output_type": "stream",
     "text": [
      "¿Cuanto es el monto que solictas?\n"
     ]
    },
    {
     "name": "stdin",
     "output_type": "stream",
     "text": [
      "El monto es:  1500\n"
     ]
    }
   ],
   "source": [
    "print (\"¿Cuanto es el monto que solictas?\")\n",
    "Monto = int(input(\"El monto es: \"))"
   ]
  },
  {
   "cell_type": "code",
   "execution_count": 32,
   "id": "8d0979ab-f53c-4b37-a8cd-728fda205737",
   "metadata": {},
   "outputs": [
    {
     "name": "stdout",
     "output_type": "stream",
     "text": [
      "¿A cuantos meses?\n"
     ]
    },
    {
     "name": "stdin",
     "output_type": "stream",
     "text": [
      "Meses : 1\n"
     ]
    }
   ],
   "source": [
    "print (\"¿A cuantos meses?\")\n",
    "Meses = int(input(\"Meses :\"))"
   ]
  },
  {
   "cell_type": "code",
   "execution_count": 33,
   "id": "38a6540e-b66f-4138-acb6-09f8983a307f",
   "metadata": {},
   "outputs": [],
   "source": [
    "Cuota = Monto / Meses"
   ]
  },
  {
   "cell_type": "code",
   "execution_count": 35,
   "id": "452a4fca-d501-431d-a19f-7aaddd5931eb",
   "metadata": {},
   "outputs": [
    {
     "name": "stdout",
     "output_type": "stream",
     "text": [
      "La cuota mensual seria de :1500.0\n"
     ]
    }
   ],
   "source": [
    "print(\"La cuota mensual seria de :\" +repr(Cuota))"
   ]
  },
  {
   "cell_type": "code",
   "execution_count": null,
   "id": "a2e855ca-36e6-491c-848d-31f631712253",
   "metadata": {},
   "outputs": [],
   "source": []
  }
 ],
 "metadata": {
  "kernelspec": {
   "display_name": "Python 3",
   "language": "python",
   "name": "python3"
  },
  "language_info": {
   "codemirror_mode": {
    "name": "ipython",
    "version": 3
   },
   "file_extension": ".py",
   "mimetype": "text/x-python",
   "name": "python",
   "nbconvert_exporter": "python",
   "pygments_lexer": "ipython3",
   "version": "3.8.8"
  }
 },
 "nbformat": 4,
 "nbformat_minor": 5
}
