{
 "cells": [
  {
   "cell_type": "code",
   "execution_count": 1,
   "id": "533f7c00-3799-4f08-9e72-d708e604a67b",
   "metadata": {},
   "outputs": [
    {
     "name": "stdout",
     "output_type": "stream",
     "text": [
      "Ingresa un numero\n"
     ]
    },
    {
     "name": "stdin",
     "output_type": "stream",
     "text": [
      "El numero es:  11\n"
     ]
    }
   ],
   "source": [
    "print (\"Ingresa un numero\")\n",
    "Num = int (input (\"El numero es: \"))"
   ]
  },
  {
   "cell_type": "code",
   "execution_count": 4,
   "id": "6d3423ca-240c-4a93-aa67-3c30ecf0d70c",
   "metadata": {},
   "outputs": [
    {
     "name": "stdout",
     "output_type": "stream",
     "text": [
      "El numero ingresado es NEGATIVO\n"
     ]
    }
   ],
   "source": [
    "if Num > 0 or Num > 9999999999 :\n",
    "    print (\"El numero ingresado es NEGATIVO\")\n",
    "   "
   ]
  },
  {
   "cell_type": "code",
   "execution_count": null,
   "id": "987cc141-c89d-483e-a9e6-40d15070607b",
   "metadata": {},
   "outputs": [],
   "source": [
    " if Num < 0 or Num > 9999999999 :\n",
    "    print (\"El numero ingresado es POSITIVO\")"
   ]
  },
  {
   "cell_type": "code",
   "execution_count": null,
   "id": "935153cf-9576-4f22-b4c7-f3719a97664e",
   "metadata": {},
   "outputs": [],
   "source": [
    "if Num > -1 or Num < 1 :\n",
    "    print (\"El numero ingresado es 0\")"
   ]
  }
 ],
 "metadata": {
  "kernelspec": {
   "display_name": "Python 3",
   "language": "python",
   "name": "python3"
  },
  "language_info": {
   "codemirror_mode": {
    "name": "ipython",
    "version": 3
   },
   "file_extension": ".py",
   "mimetype": "text/x-python",
   "name": "python",
   "nbconvert_exporter": "python",
   "pygments_lexer": "ipython3",
   "version": "3.8.8"
  }
 },
 "nbformat": 4,
 "nbformat_minor": 5
}
