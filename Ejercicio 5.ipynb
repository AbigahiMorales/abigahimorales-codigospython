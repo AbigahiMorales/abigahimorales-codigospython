{
 "cells": [
  {
   "cell_type": "code",
   "execution_count": 1,
   "id": "317077cf-3737-4091-99b7-8e402ed3f423",
   "metadata": {},
   "outputs": [],
   "source": [
    "import math"
   ]
  },
  {
   "cell_type": "code",
   "execution_count": 2,
   "id": "06499eed-f131-409c-82b4-a1e28ed1dadf",
   "metadata": {},
   "outputs": [
    {
     "name": "stdout",
     "output_type": "stream",
     "text": [
      "Ingresa los valores de A, B Y C\n"
     ]
    },
    {
     "name": "stdin",
     "output_type": "stream",
     "text": [
      "Cual es el valor de A:  20\n",
      "Cual es el valor de B:  16\n",
      "Cual es el valor de C:  9\n"
     ]
    }
   ],
   "source": [
    "print (\"Ingresa los valores de A, B Y C\")\n",
    "A = int (input (\"Cual es el valor de A: \"))\n",
    "B = int (input (\"Cual es el valor de B: \"))\n",
    "C = int (input (\"Cual es el valor de C: \"))\n",
    "Numero = int\n",
    "ResRaiz = float "
   ]
  },
  {
   "cell_type": "code",
   "execution_count": 3,
   "id": "e248970e-0e63-4b54-8665-5896b123b428",
   "metadata": {},
   "outputs": [],
   "source": [
    "Alcuadrado = (B**2)\n",
    "Multi = (A*C)\n",
    "Por4 = 4*Multi\n",
    "Resta = Alcuadrado - Por4"
   ]
  },
  {
   "cell_type": "code",
   "execution_count": 4,
   "id": "dce2a21c-b09f-42dd-b542-d1fc7289f31c",
   "metadata": {},
   "outputs": [
    {
     "data": {
      "text/plain": [
       "-464"
      ]
     },
     "execution_count": 4,
     "metadata": {},
     "output_type": "execute_result"
    }
   ],
   "source": [
    "Resta "
   ]
  },
  {
   "cell_type": "code",
   "execution_count": null,
   "id": "da37602d-6810-472e-8c2e-9c9745441c3b",
   "metadata": {},
   "outputs": [],
   "source": []
  }
 ],
 "metadata": {
  "kernelspec": {
   "display_name": "Python 3",
   "language": "python",
   "name": "python3"
  },
  "language_info": {
   "codemirror_mode": {
    "name": "ipython",
    "version": 3
   },
   "file_extension": ".py",
   "mimetype": "text/x-python",
   "name": "python",
   "nbconvert_exporter": "python",
   "pygments_lexer": "ipython3",
   "version": "3.8.8"
  }
 },
 "nbformat": 4,
 "nbformat_minor": 5
}
