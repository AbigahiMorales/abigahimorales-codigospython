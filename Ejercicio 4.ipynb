{
 "cells": [
  {
   "cell_type": "code",
   "execution_count": 1,
   "id": "3fff1087-2c74-4bef-b69b-a891228249a7",
   "metadata": {},
   "outputs": [
    {
     "name": "stdout",
     "output_type": "stream",
     "text": [
      "Ingresa los valores de la M1, M2, M3 Y M4\n"
     ]
    },
    {
     "name": "stdin",
     "output_type": "stream",
     "text": [
      "El valor de la M1 es:  10\n",
      "El valor de la M2 es:  -8\n",
      "El valor de la M3 es:  5\n",
      "El valor de la M4 es:  2\n"
     ]
    }
   ],
   "source": [
    "print (\"Ingresa los valores de la M1, M2, M3 Y M4\")\n",
    "M1 = int(input(\"El valor de la M1 es: \"))\n",
    "M2 = int(input(\"El valor de la M2 es: \"))\n",
    "M3 = int(input(\"El valor de la M3 es: \"))\n",
    "M4 = int(input(\"El valor de la M4 es: \"))"
   ]
  },
  {
   "cell_type": "code",
   "execution_count": 3,
   "id": "894bb913-b086-460f-9bfc-8afbcb3c5b30",
   "metadata": {},
   "outputs": [
    {
     "name": "stdout",
     "output_type": "stream",
     "text": [
      "|10 -8|\n",
      "|5 2  |\n"
     ]
    }
   ],
   "source": [
    "print (\"|\" + repr(M1), repr(M2) +\"|\")\n",
    "print (\"|\" + repr(M3), repr(M4) +   \"  |\")"
   ]
  },
  {
   "cell_type": "code",
   "execution_count": 4,
   "id": "3ee8b9bb-7fff-42b0-a1da-e7982f227d70",
   "metadata": {},
   "outputs": [],
   "source": [
    "RT = (M1 * M4)-(M2 * M3)"
   ]
  },
  {
   "cell_type": "code",
   "execution_count": 5,
   "id": "49722892-e5f3-4e48-80b2-fa57a71afb07",
   "metadata": {},
   "outputs": [
    {
     "name": "stdout",
     "output_type": "stream",
     "text": [
      "El resultado de la matriz es: 60\n"
     ]
    }
   ],
   "source": [
    "print(\"El resultado de la matriz es: \" +repr(RT))"
   ]
  },
  {
   "cell_type": "code",
   "execution_count": null,
   "id": "fc656441-9bfb-4b4e-9fe3-383cd0fb5c5e",
   "metadata": {},
   "outputs": [],
   "source": []
  }
 ],
 "metadata": {
  "kernelspec": {
   "display_name": "Python 3",
   "language": "python",
   "name": "python3"
  },
  "language_info": {
   "codemirror_mode": {
    "name": "ipython",
    "version": 3
   },
   "file_extension": ".py",
   "mimetype": "text/x-python",
   "name": "python",
   "nbconvert_exporter": "python",
   "pygments_lexer": "ipython3",
   "version": "3.8.8"
  }
 },
 "nbformat": 4,
 "nbformat_minor": 5
}
