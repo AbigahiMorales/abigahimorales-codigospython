{
 "cells": [
  {
   "cell_type": "code",
   "execution_count": 1,
   "id": "911fd89e-4165-4eaf-ba2c-730441c4a32f",
   "metadata": {},
   "outputs": [],
   "source": [
    "TechoIzq = \" //\"\n",
    "TechoIzq1 = \"//\"\n",
    "TechoDer = \"\\\\\"\n",
    "TechoDer1 = \"\\\\\"\n",
    "Base = \"__\"\n",
    "ParedIzq = \"||\"\n",
    "ParedIzq1 = \"||\"\n",
    "ParedDer = \"  ||\"\n",
    "ParedDer1 = \"||\"\n",
    "Base1= \"__\""
   ]
  },
  {
   "cell_type": "code",
   "execution_count": 2,
   "id": "bf7be096-257e-4a9e-8990-c1c529d0baf0",
   "metadata": {},
   "outputs": [
    {
     "name": "stdout",
     "output_type": "stream",
     "text": [
      " //\\\n",
      "//__\\\n",
      "||  ||\n",
      "||__||\n"
     ]
    }
   ],
   "source": [
    "print(TechoIzq + TechoDer)\n",
    "print(TechoIzq1 + Base + TechoDer1)\n",
    "print(ParedIzq + ParedDer)\n",
    "print(ParedIzq1 + Base + ParedDer1)"
   ]
  },
  {
   "cell_type": "code",
   "execution_count": null,
   "id": "59991e1c-3e4e-4fab-b6ab-45959196b2d4",
   "metadata": {},
   "outputs": [],
   "source": []
  }
 ],
 "metadata": {
  "kernelspec": {
   "display_name": "Python 3",
   "language": "python",
   "name": "python3"
  },
  "language_info": {
   "codemirror_mode": {
    "name": "ipython",
    "version": 3
   },
   "file_extension": ".py",
   "mimetype": "text/x-python",
   "name": "python",
   "nbconvert_exporter": "python",
   "pygments_lexer": "ipython3",
   "version": "3.8.8"
  }
 },
 "nbformat": 4,
 "nbformat_minor": 5
}
