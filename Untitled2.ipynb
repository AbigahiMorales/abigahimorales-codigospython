{
 "cells": [
  {
   "cell_type": "code",
   "execution_count": 4,
   "id": "2f8af3db-f2fa-4df2-ad18-c29b985ad494",
   "metadata": {},
   "outputs": [
    {
     "name": "stdout",
     "output_type": "stream",
     "text": [
      "Ingresa tu edad\n"
     ]
    },
    {
     "name": "stdin",
     "output_type": "stream",
     "text": [
      "Edad:  18\n"
     ]
    }
   ],
   "source": [
    "print(\"Ingresa tu edad\")\n",
    "edad = int(input(\"Edad: \"))"
   ]
  },
  {
   "cell_type": "code",
   "execution_count": 5,
   "id": "dd51876a-3188-4244-8974-dacdae53ddac",
   "metadata": {},
   "outputs": [
    {
     "name": "stdout",
     "output_type": "stream",
     "text": [
      "Edad aceptada\n"
     ]
    }
   ],
   "source": [
    "if edad >= 18 : \n",
    "    print (\"Edad aceptada\")"
   ]
  },
  {
   "cell_type": "code",
   "execution_count": 6,
   "id": "12f58b05-cb23-42cf-ad69-cd06e661325d",
   "metadata": {},
   "outputs": [],
   "source": [
    "if edad < 18 : \n",
    "    print (\"No cumples con la mayoria de edad\")"
   ]
  },
  {
   "cell_type": "code",
   "execution_count": null,
   "id": "35a689ee-d384-4e3c-b4f3-4fa45f1e4fe3",
   "metadata": {},
   "outputs": [],
   "source": []
  },
  {
   "cell_type": "code",
   "execution_count": null,
   "id": "ee758aec-f040-4efa-90ea-b60afe311b0a",
   "metadata": {},
   "outputs": [],
   "source": []
  },
  {
   "cell_type": "code",
   "execution_count": null,
   "id": "e545c041-f112-4a5d-b737-8864827ec7f1",
   "metadata": {},
   "outputs": [],
   "source": []
  },
  {
   "cell_type": "code",
   "execution_count": null,
   "id": "7172f296-8081-4892-9ce7-9f99cfe58139",
   "metadata": {},
   "outputs": [],
   "source": []
  }
 ],
 "metadata": {
  "kernelspec": {
   "display_name": "Python 3",
   "language": "python",
   "name": "python3"
  },
  "language_info": {
   "codemirror_mode": {
    "name": "ipython",
    "version": 3
   },
   "file_extension": ".py",
   "mimetype": "text/x-python",
   "name": "python",
   "nbconvert_exporter": "python",
   "pygments_lexer": "ipython3",
   "version": "3.8.8"
  }
 },
 "nbformat": 4,
 "nbformat_minor": 5
}
