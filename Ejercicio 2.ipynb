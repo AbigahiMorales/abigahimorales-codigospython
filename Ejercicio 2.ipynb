{
 "cells": [
  {
   "cell_type": "code",
   "execution_count": 1,
   "id": "757db0ad-17a5-4b68-872c-0167fb694735",
   "metadata": {},
   "outputs": [
    {
     "name": "stdout",
     "output_type": "stream",
     "text": [
      "Ingrese su nombre y apellidos\n",
      "Ingrese su numero de telefono\n",
      "Ingrese su mail\n"
     ]
    }
   ],
   "source": [
    "print(\"Ingrese su nombre y apellidos\")\n",
    "print(\"Ingrese su numero de telefono\")\n",
    "print(\"Ingrese su mail\")"
   ]
  },
  {
   "cell_type": "code",
   "execution_count": 2,
   "id": "d8114a0f-ce20-4ed9-a241-1a0b3a7dcf16",
   "metadata": {},
   "outputs": [
    {
     "name": "stdin",
     "output_type": "stream",
     "text": [
      " Abigahi Morales Juarez \n",
      " 5583551747\n",
      " moralesabigahi@gmail.com\n"
     ]
    }
   ],
   "source": [
    "Nombre = input ()\n",
    "Numero = input ()\n",
    "Mail = input ()"
   ]
  },
  {
   "cell_type": "code",
   "execution_count": 3,
   "id": "24919b9b-4595-4936-8895-361500fa0647",
   "metadata": {},
   "outputs": [
    {
     "name": "stdout",
     "output_type": "stream",
     "text": [
      "Bienvenido Abigahi Morales Juarez \n",
      "Numero de telefono: 5583551747\n",
      "Correo electronico: moralesabigahi@gmail.com\n"
     ]
    }
   ],
   "source": [
    "print(\"Bienvenido \" + Nombre)\n",
    "print(\"Numero de telefono: \" + Numero)\n",
    "print(\"Correo electronico: \" + Mail)"
   ]
  },
  {
   "cell_type": "code",
   "execution_count": null,
   "id": "2a413abd-9171-4228-b4fa-21fb8513b7dc",
   "metadata": {},
   "outputs": [],
   "source": []
  }
 ],
 "metadata": {
  "kernelspec": {
   "display_name": "Python 3",
   "language": "python",
   "name": "python3"
  },
  "language_info": {
   "codemirror_mode": {
    "name": "ipython",
    "version": 3
   },
   "file_extension": ".py",
   "mimetype": "text/x-python",
   "name": "python",
   "nbconvert_exporter": "python",
   "pygments_lexer": "ipython3",
   "version": "3.8.8"
  }
 },
 "nbformat": 4,
 "nbformat_minor": 5
}
